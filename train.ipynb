{
 "cells": [
  {
   "cell_type": "code",
   "execution_count": 1,
   "id": "df78c21a",
   "metadata": {},
   "outputs": [],
   "source": [
    "%load_ext tensorboard"
   ]
  },
  {
   "cell_type": "code",
   "execution_count": 2,
   "id": "a40c3f66",
   "metadata": {},
   "outputs": [
    {
     "name": "stderr",
     "output_type": "stream",
     "text": [
      "2022-09-22 16:03:48.417229: W tensorflow/stream_executor/platform/default/dso_loader.cc:64] Could not load dynamic library 'libcudart.so.11.0'; dlerror: libcudart.so.11.0: cannot open shared object file: No such file or directory\n",
      "2022-09-22 16:03:48.417261: I tensorflow/stream_executor/cuda/cudart_stub.cc:29] Ignore above cudart dlerror if you do not have a GPU set up on your machine.\n"
     ]
    }
   ],
   "source": [
    "import tensorflow as tf\n",
    "import matplotlib.pyplot as plt\n",
    "import numpy as np\n",
    "import pathlib\n",
    "\n",
    "from tensorflow import keras\n",
    "from keras import layers\n",
    "from keras.layers import Conv2D, MaxPooling2D, Flatten, Dense, Dropout\n",
    "from keras.models import Sequential\n",
    "\n",
    "import os\n",
    "os.environ['CUDA_VISIBLE_DEVICES'] = '-1'"
   ]
  },
  {
   "cell_type": "code",
   "execution_count": 3,
   "id": "4acaebf4",
   "metadata": {},
   "outputs": [],
   "source": [
    "!rm -rf ./logs/"
   ]
  },
  {
   "cell_type": "code",
   "execution_count": 4,
   "id": "9244bb8f",
   "metadata": {},
   "outputs": [],
   "source": [
    "WIDTH, HEIGHT = 20, 20\n",
    "IMAGE_SIZE = (WIDTH, HEIGHT)\n",
    "\n",
    "batch_size = 32\n",
    "epochs = 100"
   ]
  },
  {
   "cell_type": "markdown",
   "id": "498f2928",
   "metadata": {},
   "source": [
    "## Augment image\n",
    "\n",
    "Apply random rotation, brightness and zoom to the image.\n",
    "Resize the image to 20x20 pixels\n",
    "Rescale pixel values to [0, 1] instead of [0, 255]"
   ]
  },
  {
   "cell_type": "code",
   "execution_count": 6,
   "id": "032a8650",
   "metadata": {},
   "outputs": [],
   "source": [
    "augment_image = keras.Sequential([\n",
    "    keras.layers.RandomRotation((-0.07, 0.07), \"nearest\"),\n",
    "    keras.layers.RandomBrightness(0.1),\n",
    "    keras.layers.RandomZoom(0.1, fill_mode=\"nearest\")\n",
    "])\n",
    "\n",
    "rescale_resize = keras.Sequential([\n",
    "    layers.Rescaling(1./255),\n",
    "    layers.Resizing(WIDTH, HEIGHT)\n",
    "])"
   ]
  },
  {
   "cell_type": "code",
   "execution_count": 11,
   "id": "c24d82ab",
   "metadata": {},
   "outputs": [
    {
     "name": "stdout",
     "output_type": "stream",
     "text": [
      "Found 20630 files belonging to 9 classes.\n",
      "Using 16504 files for training.\n",
      "WARNING:tensorflow:Using a while_loop for converting RngReadAndSkip\n"
     ]
    },
    {
     "name": "stderr",
     "output_type": "stream",
     "text": [
      "WARNING:tensorflow:Using a while_loop for converting RngReadAndSkip\n"
     ]
    },
    {
     "name": "stdout",
     "output_type": "stream",
     "text": [
      "WARNING:tensorflow:Using a while_loop for converting Bitcast\n"
     ]
    },
    {
     "name": "stderr",
     "output_type": "stream",
     "text": [
      "WARNING:tensorflow:Using a while_loop for converting Bitcast\n"
     ]
    },
    {
     "name": "stdout",
     "output_type": "stream",
     "text": [
      "WARNING:tensorflow:Using a while_loop for converting Bitcast\n"
     ]
    },
    {
     "name": "stderr",
     "output_type": "stream",
     "text": [
      "WARNING:tensorflow:Using a while_loop for converting Bitcast\n"
     ]
    },
    {
     "name": "stdout",
     "output_type": "stream",
     "text": [
      "WARNING:tensorflow:Using a while_loop for converting StatelessRandomUniformV2\n"
     ]
    },
    {
     "name": "stderr",
     "output_type": "stream",
     "text": [
      "WARNING:tensorflow:Using a while_loop for converting StatelessRandomUniformV2\n"
     ]
    },
    {
     "name": "stdout",
     "output_type": "stream",
     "text": [
      "Found 20630 files belonging to 9 classes.\n",
      "Using 4126 files for validation.\n"
     ]
    }
   ],
   "source": [
    "training_ds = tf.keras.preprocessing.image_dataset_from_directory(\n",
    "    \"training_data\",\n",
    "    validation_split = 0.2,\n",
    "    subset = \"training\",\n",
    "    seed = 7892,\n",
    "    color_mode = \"grayscale\",\n",
    "    image_size = IMAGE_SIZE,\n",
    "    batch_size = batch_size\n",
    ")\n",
    "\n",
    "augmented_ds = training_ds.map(lambda x,y: (augment_image(x), y))\n",
    "final_training_ds = augmented_ds.map(lambda x,y: (rescale_resize(x), y))\n",
    "\n",
    "\n",
    "validation_original = tf.keras.preprocessing.image_dataset_from_directory(\n",
    "    \"training_data\",\n",
    "    validation_split = 0.2,\n",
    "    subset = \"validation\",\n",
    "    seed = 7892,\n",
    "    color_mode = \"grayscale\",\n",
    "    image_size = IMAGE_SIZE,\n",
    "    batch_size = batch_size\n",
    ")\n",
    "\n",
    "validation_ds = validation_original.map(lambda x,y: (rescale_resize(x), y))"
   ]
  },
  {
   "cell_type": "code",
   "execution_count": 13,
   "id": "f9faa3c9",
   "metadata": {},
   "outputs": [
    {
     "data": {
      "image/png": "[encoded data removed]",
      "text/plain": [
       "<Figure size 1000x1000 with 9 Axes>"
      ]
     },
     "metadata": {},
     "output_type": "display_data"
    }
   ],
   "source": [
    "class_names = training_ds.class_names\n",
    "plt.figure(figsize=(10,10))\n",
    "for images, labels in final_training_ds.take(1):\n",
    "    for i in range(9):\n",
    "        ax = plt.subplot(3, 3, i+1)\n",
    "        plt.imshow(images[i].numpy().astype(\"float32\"), cmap=\"gray\")\n",
    "        plt.title(class_names[labels[i]])\n",
    "        plt.axis(\"off\")"
   ]
  },
  {
   "cell_type": "code",
   "execution_count": 14,
   "id": "0a2f1ce7",
   "metadata": {},
   "outputs": [],
   "source": [
    "num_classes = len(class_names)\n",
    "model = Sequential([\n",
    "    Conv2D(16, 3, \n",
    "                  padding=\"same\", \n",
    "                  activation=\"relu\",\n",
    "                  input_shape=(HEIGHT, WIDTH, 1)\n",
    "                 ),\n",
    "    MaxPooling2D(),\n",
    "    Dropout(0.2),\n",
    "    Flatten(),\n",
    "    Dense(\n",
    "        50,\n",
    "        activation=\"relu\"\n",
    "    ),\n",
    "    Dense(\n",
    "        num_classes, \n",
    "        activation=\"softmax\",\n",
    "        name=\"output\")\n",
    "])\n"
   ]
  },
  {
   "cell_type": "code",
   "execution_count": 15,
   "id": "85e395fb",
   "metadata": {},
   "outputs": [
    {
     "name": "stdout",
     "output_type": "stream",
     "text": [
      "Epoch 1/100\n",
      "516/516 [==============================] - 5s 10ms/step - loss: 0.6757 - accuracy: 0.8040 - val_loss: 0.1508 - val_accuracy: 0.9634\n",
      "Epoch 2/100\n",
      "516/516 [==============================] - 4s 8ms/step - loss: 0.2348 - accuracy: 0.9343 - val_loss: 0.1032 - val_accuracy: 0.9721\n",
      "Epoch 3/100\n",
      "516/516 [==============================] - 4s 8ms/step - loss: 0.1762 - accuracy: 0.9499 - val_loss: 0.0843 - val_accuracy: 0.9770\n",
      "Epoch 4/100\n",
      "516/516 [==============================] - 4s 9ms/step - loss: 0.1466 - accuracy: 0.9573 - val_loss: 0.0755 - val_accuracy: 0.9779\n",
      "Epoch 5/100\n",
      "516/516 [==============================] - 5s 10ms/step - loss: 0.1247 - accuracy: 0.9632 - val_loss: 0.0767 - val_accuracy: 0.9760\n",
      "Epoch 6/100\n",
      "516/516 [==============================] - 5s 9ms/step - loss: 0.1102 - accuracy: 0.9702 - val_loss: 0.0577 - val_accuracy: 0.9816\n",
      "Epoch 7/100\n",
      "516/516 [==============================] - 5s 9ms/step - loss: 0.0971 - accuracy: 0.9720 - val_loss: 0.0433 - val_accuracy: 0.9864\n",
      "Epoch 8/100\n",
      "516/516 [==============================] - 5s 9ms/step - loss: 0.0867 - accuracy: 0.9750 - val_loss: 0.0496 - val_accuracy: 0.9845\n",
      "Epoch 9/100\n",
      "516/516 [==============================] - 5s 10ms/step - loss: 0.0787 - accuracy: 0.9759 - val_loss: 0.0365 - val_accuracy: 0.9889\n",
      "Epoch 10/100\n",
      "516/516 [==============================] - 5s 10ms/step - loss: 0.0734 - accuracy: 0.9793 - val_loss: 0.0395 - val_accuracy: 0.9886\n",
      "Epoch 11/100\n",
      "516/516 [==============================] - 5s 10ms/step - loss: 0.0703 - accuracy: 0.9792 - val_loss: 0.0351 - val_accuracy: 0.9901\n",
      "Epoch 12/100\n",
      "516/516 [==============================] - 5s 10ms/step - loss: 0.0665 - accuracy: 0.9803 - val_loss: 0.0363 - val_accuracy: 0.9889\n",
      "Epoch 13/100\n",
      "516/516 [==============================] - 5s 10ms/step - loss: 0.0621 - accuracy: 0.9815 - val_loss: 0.0391 - val_accuracy: 0.9876\n",
      "Epoch 14/100\n",
      "516/516 [==============================] - 6s 11ms/step - loss: 0.0581 - accuracy: 0.9819 - val_loss: 0.0312 - val_accuracy: 0.9905\n",
      "Epoch 15/100\n",
      "516/516 [==============================] - 6s 11ms/step - loss: 0.0556 - accuracy: 0.9838 - val_loss: 0.0312 - val_accuracy: 0.9908\n",
      "Epoch 16/100\n",
      "516/516 [==============================] - 5s 10ms/step - loss: 0.0494 - accuracy: 0.9847 - val_loss: 0.0321 - val_accuracy: 0.9908\n",
      "Epoch 17/100\n",
      "516/516 [==============================] - 5s 9ms/step - loss: 0.0557 - accuracy: 0.9823 - val_loss: 0.0291 - val_accuracy: 0.9915\n",
      "Epoch 18/100\n",
      "516/516 [==============================] - 5s 9ms/step - loss: 0.0486 - accuracy: 0.9849 - val_loss: 0.0335 - val_accuracy: 0.9905\n",
      "Epoch 19/100\n",
      "516/516 [==============================] - 6s 11ms/step - loss: 0.0514 - accuracy: 0.9832 - val_loss: 0.0263 - val_accuracy: 0.9927\n",
      "Epoch 20/100\n",
      "516/516 [==============================] - 5s 10ms/step - loss: 0.0475 - accuracy: 0.9854 - val_loss: 0.0262 - val_accuracy: 0.9927\n",
      "Epoch 21/100\n",
      "516/516 [==============================] - 5s 10ms/step - loss: 0.0465 - accuracy: 0.9861 - val_loss: 0.0271 - val_accuracy: 0.9920\n",
      "Epoch 22/100\n",
      "516/516 [==============================] - 5s 10ms/step - loss: 0.0439 - accuracy: 0.9856 - val_loss: 0.0298 - val_accuracy: 0.9913\n",
      "Epoch 23/100\n",
      "516/516 [==============================] - 5s 10ms/step - loss: 0.0445 - accuracy: 0.9872 - val_loss: 0.0311 - val_accuracy: 0.9918\n",
      "Epoch 24/100\n",
      "516/516 [==============================] - 5s 9ms/step - loss: 0.0401 - accuracy: 0.9880 - val_loss: 0.0310 - val_accuracy: 0.9913\n",
      "Epoch 25/100\n",
      "516/516 [==============================] - 7s 13ms/step - loss: 0.0412 - accuracy: 0.9873 - val_loss: 0.0282 - val_accuracy: 0.9910\n",
      "Epoch 26/100\n",
      "516/516 [==============================] - 7s 14ms/step - loss: 0.0412 - accuracy: 0.9872 - val_loss: 0.0228 - val_accuracy: 0.9935\n",
      "Epoch 27/100\n",
      "516/516 [==============================] - 6s 12ms/step - loss: 0.0396 - accuracy: 0.9874 - val_loss: 0.0285 - val_accuracy: 0.9927\n",
      "Epoch 28/100\n",
      "516/516 [==============================] - 6s 12ms/step - loss: 0.0388 - accuracy: 0.9882 - val_loss: 0.0244 - val_accuracy: 0.9930\n",
      "Epoch 29/100\n",
      "516/516 [==============================] - 7s 13ms/step - loss: 0.0396 - accuracy: 0.9875 - val_loss: 0.0257 - val_accuracy: 0.9930\n",
      "Epoch 30/100\n",
      "516/516 [==============================] - 6s 11ms/step - loss: 0.0342 - accuracy: 0.9893 - val_loss: 0.0342 - val_accuracy: 0.9886\n",
      "Epoch 31/100\n",
      "516/516 [==============================] - 5s 10ms/step - loss: 0.0377 - accuracy: 0.9878 - val_loss: 0.0245 - val_accuracy: 0.9932\n",
      "Epoch 32/100\n",
      "516/516 [==============================] - 6s 13ms/step - loss: 0.0335 - accuracy: 0.9899 - val_loss: 0.0251 - val_accuracy: 0.9942\n",
      "Epoch 33/100\n",
      "516/516 [==============================] - 6s 11ms/step - loss: 0.0386 - accuracy: 0.9889 - val_loss: 0.0230 - val_accuracy: 0.9939\n",
      "Epoch 34/100\n",
      "516/516 [==============================] - 5s 10ms/step - loss: 0.0335 - accuracy: 0.9890 - val_loss: 0.0262 - val_accuracy: 0.9925\n",
      "Epoch 35/100\n",
      "516/516 [==============================] - 6s 11ms/step - loss: 0.0346 - accuracy: 0.9890 - val_loss: 0.0227 - val_accuracy: 0.9932\n",
      "Epoch 36/100\n",
      "516/516 [==============================] - 6s 12ms/step - loss: 0.0305 - accuracy: 0.9898 - val_loss: 0.0240 - val_accuracy: 0.9947\n",
      "Epoch 37/100\n",
      "516/516 [==============================] - 7s 14ms/step - loss: 0.0286 - accuracy: 0.9909 - val_loss: 0.0273 - val_accuracy: 0.9925\n",
      "Epoch 38/100\n",
      "516/516 [==============================] - 5s 10ms/step - loss: 0.0328 - accuracy: 0.9889 - val_loss: 0.0204 - val_accuracy: 0.9944\n",
      "Epoch 39/100\n",
      "516/516 [==============================] - 5s 10ms/step - loss: 0.0335 - accuracy: 0.9898 - val_loss: 0.0209 - val_accuracy: 0.9944\n",
      "Epoch 40/100\n",
      "516/516 [==============================] - 5s 10ms/step - loss: 0.0324 - accuracy: 0.9899 - val_loss: 0.0196 - val_accuracy: 0.9942\n",
      "Epoch 41/100\n",
      "516/516 [==============================] - 7s 14ms/step - loss: 0.0303 - accuracy: 0.9898 - val_loss: 0.0233 - val_accuracy: 0.9937\n",
      "Epoch 42/100\n",
      "516/516 [==============================] - 7s 14ms/step - loss: 0.0318 - accuracy: 0.9897 - val_loss: 0.0240 - val_accuracy: 0.9939\n",
      "Epoch 43/100\n",
      "516/516 [==============================] - 7s 13ms/step - loss: 0.0292 - accuracy: 0.9900 - val_loss: 0.0231 - val_accuracy: 0.9947\n",
      "Epoch 44/100\n",
      "516/516 [==============================] - 6s 11ms/step - loss: 0.0313 - accuracy: 0.9901 - val_loss: 0.0241 - val_accuracy: 0.9937\n",
      "Epoch 45/100\n",
      "516/516 [==============================] - 5s 10ms/step - loss: 0.0282 - accuracy: 0.9905 - val_loss: 0.0255 - val_accuracy: 0.9947\n",
      "Epoch 46/100\n",
      "516/516 [==============================] - 5s 10ms/step - loss: 0.0288 - accuracy: 0.9902 - val_loss: 0.0261 - val_accuracy: 0.9942\n",
      "Epoch 47/100\n",
      "516/516 [==============================] - 6s 11ms/step - loss: 0.0260 - accuracy: 0.9916 - val_loss: 0.0217 - val_accuracy: 0.9942\n",
      "Epoch 48/100\n",
      "516/516 [==============================] - 6s 11ms/step - loss: 0.0289 - accuracy: 0.9908 - val_loss: 0.0202 - val_accuracy: 0.9942\n",
      "Epoch 49/100\n",
      "516/516 [==============================] - 5s 10ms/step - loss: 0.0294 - accuracy: 0.9903 - val_loss: 0.0316 - val_accuracy: 0.9932\n",
      "Epoch 50/100\n",
      "516/516 [==============================] - 6s 11ms/step - loss: 0.0259 - accuracy: 0.9911 - val_loss: 0.0265 - val_accuracy: 0.9942\n",
      "Epoch 51/100\n",
      "516/516 [==============================] - 6s 12ms/step - loss: 0.0318 - accuracy: 0.9907 - val_loss: 0.0207 - val_accuracy: 0.9947\n",
      "Epoch 52/100\n",
      "516/516 [==============================] - 7s 13ms/step - loss: 0.0265 - accuracy: 0.9907 - val_loss: 0.0228 - val_accuracy: 0.9949\n",
      "Epoch 53/100\n",
      "516/516 [==============================] - 6s 11ms/step - loss: 0.0268 - accuracy: 0.9912 - val_loss: 0.0244 - val_accuracy: 0.9947\n",
      "Epoch 54/100\n",
      "516/516 [==============================] - 4s 9ms/step - loss: 0.0252 - accuracy: 0.9924 - val_loss: 0.0291 - val_accuracy: 0.9937\n",
      "Epoch 55/100\n",
      "516/516 [==============================] - 5s 9ms/step - loss: 0.0248 - accuracy: 0.9924 - val_loss: 0.0198 - val_accuracy: 0.9959\n",
      "Epoch 56/100\n",
      "516/516 [==============================] - 4s 9ms/step - loss: 0.0263 - accuracy: 0.9917 - val_loss: 0.0228 - val_accuracy: 0.9930\n",
      "Epoch 57/100\n",
      "516/516 [==============================] - 5s 9ms/step - loss: 0.0281 - accuracy: 0.9907 - val_loss: 0.0206 - val_accuracy: 0.9942\n",
      "Epoch 58/100\n",
      "516/516 [==============================] - 5s 9ms/step - loss: 0.0273 - accuracy: 0.9914 - val_loss: 0.0294 - val_accuracy: 0.9944\n",
      "Epoch 59/100\n",
      "516/516 [==============================] - 4s 9ms/step - loss: 0.0256 - accuracy: 0.9915 - val_loss: 0.0213 - val_accuracy: 0.9939\n",
      "Epoch 60/100\n",
      "516/516 [==============================] - 5s 9ms/step - loss: 0.0262 - accuracy: 0.9923 - val_loss: 0.0228 - val_accuracy: 0.9942\n",
      "Epoch 61/100\n",
      "516/516 [==============================] - 5s 9ms/step - loss: 0.0249 - accuracy: 0.9920 - val_loss: 0.0261 - val_accuracy: 0.9937\n",
      "Epoch 62/100\n",
      "516/516 [==============================] - 5s 10ms/step - loss: 0.0217 - accuracy: 0.9928 - val_loss: 0.0210 - val_accuracy: 0.9954\n",
      "Epoch 63/100\n",
      "516/516 [==============================] - 4s 9ms/step - loss: 0.0268 - accuracy: 0.9916 - val_loss: 0.0249 - val_accuracy: 0.9947\n",
      "Epoch 64/100\n",
      "516/516 [==============================] - 5s 9ms/step - loss: 0.0242 - accuracy: 0.9924 - val_loss: 0.0242 - val_accuracy: 0.9952\n",
      "Epoch 65/100\n",
      "516/516 [==============================] - 6s 11ms/step - loss: 0.0221 - accuracy: 0.9924 - val_loss: 0.0245 - val_accuracy: 0.9954\n",
      "Epoch 66/100\n",
      "516/516 [==============================] - 6s 12ms/step - loss: 0.0229 - accuracy: 0.9925 - val_loss: 0.0184 - val_accuracy: 0.9949\n",
      "Epoch 67/100\n",
      "516/516 [==============================] - 5s 11ms/step - loss: 0.0216 - accuracy: 0.9928 - val_loss: 0.0225 - val_accuracy: 0.9952\n",
      "Epoch 68/100\n",
      "516/516 [==============================] - 5s 10ms/step - loss: 0.0233 - accuracy: 0.9922 - val_loss: 0.0218 - val_accuracy: 0.9952\n",
      "Epoch 69/100\n",
      "516/516 [==============================] - 5s 9ms/step - loss: 0.0232 - accuracy: 0.9922 - val_loss: 0.0220 - val_accuracy: 0.9949\n",
      "Epoch 70/100\n",
      "516/516 [==============================] - 5s 10ms/step - loss: 0.0212 - accuracy: 0.9929 - val_loss: 0.0254 - val_accuracy: 0.9947\n",
      "Epoch 71/100\n",
      "516/516 [==============================] - 4s 8ms/step - loss: 0.0244 - accuracy: 0.9925 - val_loss: 0.0252 - val_accuracy: 0.9939\n",
      "Epoch 72/100\n",
      "516/516 [==============================] - 5s 9ms/step - loss: 0.0196 - accuracy: 0.9928 - val_loss: 0.0335 - val_accuracy: 0.9913\n",
      "Epoch 73/100\n",
      "516/516 [==============================] - 5s 9ms/step - loss: 0.0232 - accuracy: 0.9921 - val_loss: 0.0282 - val_accuracy: 0.9913\n",
      "Epoch 74/100\n",
      "516/516 [==============================] - 4s 8ms/step - loss: 0.0242 - accuracy: 0.9922 - val_loss: 0.0229 - val_accuracy: 0.9947\n",
      "Epoch 75/100\n",
      "516/516 [==============================] - 6s 11ms/step - loss: 0.0241 - accuracy: 0.9924 - val_loss: 0.0285 - val_accuracy: 0.9932\n",
      "Epoch 76/100\n",
      "516/516 [==============================] - 6s 12ms/step - loss: 0.0211 - accuracy: 0.9926 - val_loss: 0.0224 - val_accuracy: 0.9942\n",
      "Epoch 77/100\n",
      "516/516 [==============================] - 6s 12ms/step - loss: 0.0215 - accuracy: 0.9923 - val_loss: 0.0256 - val_accuracy: 0.9947\n",
      "Epoch 78/100\n",
      "516/516 [==============================] - 5s 10ms/step - loss: 0.0230 - accuracy: 0.9927 - val_loss: 0.0213 - val_accuracy: 0.9952\n",
      "Epoch 79/100\n",
      "516/516 [==============================] - 5s 9ms/step - loss: 0.0200 - accuracy: 0.9937 - val_loss: 0.0203 - val_accuracy: 0.9952\n",
      "Epoch 80/100\n",
      "516/516 [==============================] - 5s 10ms/step - loss: 0.0204 - accuracy: 0.9933 - val_loss: 0.0233 - val_accuracy: 0.9949\n",
      "Epoch 81/100\n",
      "516/516 [==============================] - 5s 11ms/step - loss: 0.0220 - accuracy: 0.9933 - val_loss: 0.0247 - val_accuracy: 0.9925\n",
      "Epoch 82/100\n",
      "516/516 [==============================] - 5s 9ms/step - loss: 0.0249 - accuracy: 0.9927 - val_loss: 0.0261 - val_accuracy: 0.9937\n",
      "Epoch 83/100\n",
      "516/516 [==============================] - 6s 11ms/step - loss: 0.0212 - accuracy: 0.9933 - val_loss: 0.0303 - val_accuracy: 0.9920\n",
      "Epoch 84/100\n",
      "516/516 [==============================] - 5s 9ms/step - loss: 0.0235 - accuracy: 0.9924 - val_loss: 0.0218 - val_accuracy: 0.9952\n",
      "Epoch 85/100\n",
      "516/516 [==============================] - 5s 9ms/step - loss: 0.0198 - accuracy: 0.9938 - val_loss: 0.0250 - val_accuracy: 0.9954\n",
      "Epoch 86/100\n",
      "516/516 [==============================] - 4s 9ms/step - loss: 0.0190 - accuracy: 0.9939 - val_loss: 0.0241 - val_accuracy: 0.9944\n",
      "Epoch 87/100\n",
      "516/516 [==============================] - 4s 8ms/step - loss: 0.0194 - accuracy: 0.9939 - val_loss: 0.0224 - val_accuracy: 0.9947\n",
      "Epoch 88/100\n",
      "516/516 [==============================] - 5s 9ms/step - loss: 0.0210 - accuracy: 0.9933 - val_loss: 0.0226 - val_accuracy: 0.9947\n",
      "Epoch 89/100\n",
      "516/516 [==============================] - 5s 11ms/step - loss: 0.0211 - accuracy: 0.9930 - val_loss: 0.0241 - val_accuracy: 0.9942\n",
      "Epoch 90/100\n",
      "516/516 [==============================] - 7s 14ms/step - loss: 0.0173 - accuracy: 0.9938 - val_loss: 0.0201 - val_accuracy: 0.9952\n",
      "Epoch 91/100\n",
      "516/516 [==============================] - 6s 11ms/step - loss: 0.0216 - accuracy: 0.9927 - val_loss: 0.0224 - val_accuracy: 0.9952\n",
      "Epoch 92/100\n",
      "516/516 [==============================] - 5s 10ms/step - loss: 0.0200 - accuracy: 0.9932 - val_loss: 0.0241 - val_accuracy: 0.9939\n",
      "Epoch 93/100\n",
      "516/516 [==============================] - 6s 11ms/step - loss: 0.0205 - accuracy: 0.9927 - val_loss: 0.0225 - val_accuracy: 0.9952\n",
      "Epoch 94/100\n",
      "516/516 [==============================] - 6s 11ms/step - loss: 0.0158 - accuracy: 0.9952 - val_loss: 0.0236 - val_accuracy: 0.9956\n",
      "Epoch 95/100\n",
      "516/516 [==============================] - 5s 10ms/step - loss: 0.0201 - accuracy: 0.9932 - val_loss: 0.0213 - val_accuracy: 0.9947\n",
      "Epoch 96/100\n",
      "516/516 [==============================] - 5s 10ms/step - loss: 0.0188 - accuracy: 0.9937 - val_loss: 0.0199 - val_accuracy: 0.9952\n",
      "Epoch 97/100\n",
      "516/516 [==============================] - 5s 9ms/step - loss: 0.0175 - accuracy: 0.9941 - val_loss: 0.0273 - val_accuracy: 0.9949\n",
      "Epoch 98/100\n",
      "516/516 [==============================] - 5s 9ms/step - loss: 0.0189 - accuracy: 0.9941 - val_loss: 0.0213 - val_accuracy: 0.9947\n",
      "Epoch 99/100\n",
      "516/516 [==============================] - 5s 9ms/step - loss: 0.0179 - accuracy: 0.9939 - val_loss: 0.0210 - val_accuracy: 0.9947\n",
      "Epoch 100/100\n",
      "516/516 [==============================] - 5s 9ms/step - loss: 0.0189 - accuracy: 0.9940 - val_loss: 0.0222 - val_accuracy: 0.9935\n"
     ]
    }
   ],
   "source": [
    "model.compile(optimizer=\"adam\",\n",
    "              loss=keras.losses.SparseCategoricalCrossentropy(),\n",
    "              metrics=[\"accuracy\"]\n",
    "             )\n",
    "\n",
    "history = model.fit(final_training_ds,\n",
    "                    validation_data=validation_ds, \n",
    "                    epochs=epochs)"
   ]
  },
  {
   "cell_type": "code",
   "execution_count": 16,
   "id": "416fc1ff",
   "metadata": {},
   "outputs": [
    {
     "data": {
      "image/png": "[encoded data removed]",
      "text/plain": [
       "<Figure size 800x800 with 2 Axes>"
      ]
     },
     "metadata": {},
     "output_type": "display_data"
    }
   ],
   "source": [
    "acc = history.history['accuracy']\n",
    "val_acc = history.history['val_accuracy']\n",
    "\n",
    "loss = history.history['loss']\n",
    "val_loss = history.history['val_loss']\n",
    "\n",
    "epochs_range = range(epochs)\n",
    "\n",
    "plt.figure(figsize=(8, 8))\n",
    "plt.subplot(1, 2, 1)\n",
    "plt.plot(epochs_range, acc, label='Training Accuracy')\n",
    "plt.plot(epochs_range, val_acc, label='Validation Accuracy')\n",
    "plt.legend(loc='lower right')\n",
    "plt.title('Training and Validation Accuracy')\n",
    "\n",
    "plt.subplot(1, 2, 2)\n",
    "plt.plot(epochs_range, loss, label='Training Loss')\n",
    "plt.plot(epochs_range, val_loss, label='Validation Loss')\n",
    "plt.legend(loc='upper right')\n",
    "plt.title('Training and Validation Loss')\n",
    "plt.show()"
   ]
  },
  {
   "cell_type": "code",
   "execution_count": 17,
   "id": "56a0c9a8",
   "metadata": {},
   "outputs": [
    {
     "name": "stderr",
     "output_type": "stream",
     "text": [
      "WARNING:absl:Found untraced functions such as _jit_compiled_convolution_op while saving (showing 1 of 1). These functions will not be directly callable after loading.\n"
     ]
    },
    {
     "name": "stdout",
     "output_type": "stream",
     "text": [
      "INFO:tensorflow:Assets written to: trained.model/assets\n"
     ]
    },
    {
     "name": "stderr",
     "output_type": "stream",
     "text": [
      "INFO:tensorflow:Assets written to: trained.model/assets\n"
     ]
    }
   ],
   "source": [
    "model.save(\"trained.model\")"
   ]
  },
  {
   "cell_type": "code",
   "execution_count": 18,
   "id": "b363e99a",
   "metadata": {},
   "outputs": [
    {
     "name": "stdout",
     "output_type": "stream",
     "text": [
      "Found 22923 files belonging to 9 classes.\n"
     ]
    }
   ],
   "source": [
    "all_data_ds = tf.keras.preprocessing.image_dataset_from_directory(\n",
    "    \"all_data\",\n",
    "    seed = 7892,\n",
    "    color_mode = \"grayscale\",\n",
    "    image_size = IMAGE_SIZE,\n",
    "    batch_size = batch_size\n",
    ")\n",
    "\n",
    "augmented_all_data_ds = all_data_ds.map(lambda x,y: (augment_image(x), y))\n",
    "final_all_data_ds = augmented_all_data_ds.map(lambda x,y: (rescale_resize(x), y))"
   ]
  },
  {
   "cell_type": "code",
   "execution_count": 19,
   "id": "f5dadbd4",
   "metadata": {},
   "outputs": [
    {
     "name": "stdout",
     "output_type": "stream",
     "text": [
      "Epoch 1/50\n",
      "717/717 [==============================] - 5s 7ms/step - loss: 0.0142 - accuracy: 0.9958\n",
      "Epoch 2/50\n",
      "717/717 [==============================] - 6s 8ms/step - loss: 0.0123 - accuracy: 0.9964\n",
      "Epoch 3/50\n",
      "717/717 [==============================] - 5s 7ms/step - loss: 0.0108 - accuracy: 0.9969\n",
      "Epoch 4/50\n",
      "717/717 [==============================] - 5s 7ms/step - loss: 0.0102 - accuracy: 0.9967\n",
      "Epoch 5/50\n",
      "717/717 [==============================] - 5s 7ms/step - loss: 0.0087 - accuracy: 0.9971\n",
      "Epoch 6/50\n",
      "717/717 [==============================] - 5s 7ms/step - loss: 0.0081 - accuracy: 0.9975\n",
      "Epoch 7/50\n",
      "717/717 [==============================] - 5s 7ms/step - loss: 0.0090 - accuracy: 0.9973\n",
      "Epoch 8/50\n",
      "717/717 [==============================] - 5s 7ms/step - loss: 0.0083 - accuracy: 0.9971\n",
      "Epoch 9/50\n",
      "717/717 [==============================] - 5s 7ms/step - loss: 0.0055 - accuracy: 0.9981\n",
      "Epoch 10/50\n",
      "717/717 [==============================] - 5s 7ms/step - loss: 0.0059 - accuracy: 0.9982\n",
      "Epoch 11/50\n",
      "717/717 [==============================] - 5s 7ms/step - loss: 0.0067 - accuracy: 0.9978\n",
      "Epoch 12/50\n",
      "717/717 [==============================] - 5s 7ms/step - loss: 0.0072 - accuracy: 0.9976\n",
      "Epoch 13/50\n",
      "717/717 [==============================] - 5s 8ms/step - loss: 0.0080 - accuracy: 0.9975\n",
      "Epoch 14/50\n",
      "717/717 [==============================] - 5s 7ms/step - loss: 0.0054 - accuracy: 0.9980\n",
      "Epoch 15/50\n",
      "717/717 [==============================] - 5s 7ms/step - loss: 0.0049 - accuracy: 0.9986\n",
      "Epoch 16/50\n",
      "717/717 [==============================] - 6s 8ms/step - loss: 0.0046 - accuracy: 0.9986\n",
      "Epoch 17/50\n",
      "717/717 [==============================] - 6s 8ms/step - loss: 0.0062 - accuracy: 0.9978\n",
      "Epoch 18/50\n",
      "717/717 [==============================] - 6s 8ms/step - loss: 0.0045 - accuracy: 0.9986\n",
      "Epoch 19/50\n",
      "717/717 [==============================] - 6s 8ms/step - loss: 0.0053 - accuracy: 0.9986\n",
      "Epoch 20/50\n",
      "717/717 [==============================] - 5s 7ms/step - loss: 0.0056 - accuracy: 0.9984\n",
      "Epoch 21/50\n",
      "717/717 [==============================] - 6s 8ms/step - loss: 0.0052 - accuracy: 0.9986\n",
      "Epoch 22/50\n",
      "717/717 [==============================] - 6s 8ms/step - loss: 0.0056 - accuracy: 0.9979\n",
      "Epoch 23/50\n",
      "717/717 [==============================] - 5s 8ms/step - loss: 0.0031 - accuracy: 0.9990\n",
      "Epoch 24/50\n",
      "717/717 [==============================] - 5s 7ms/step - loss: 0.0041 - accuracy: 0.9985\n",
      "Epoch 25/50\n",
      "717/717 [==============================] - 5s 7ms/step - loss: 0.0047 - accuracy: 0.9983\n",
      "Epoch 26/50\n",
      "717/717 [==============================] - 5s 7ms/step - loss: 0.0037 - accuracy: 0.9988\n",
      "Epoch 27/50\n",
      "717/717 [==============================] - 5s 7ms/step - loss: 0.0054 - accuracy: 0.9985\n",
      "Epoch 28/50\n",
      "717/717 [==============================] - 5s 7ms/step - loss: 0.0035 - accuracy: 0.9987\n",
      "Epoch 29/50\n",
      "717/717 [==============================] - 6s 9ms/step - loss: 0.0055 - accuracy: 0.9981\n",
      "Epoch 30/50\n",
      "717/717 [==============================] - 7s 9ms/step - loss: 0.0045 - accuracy: 0.9988\n",
      "Epoch 31/50\n",
      "717/717 [==============================] - 6s 8ms/step - loss: 0.0042 - accuracy: 0.9987\n",
      "Epoch 32/50\n",
      "717/717 [==============================] - 5s 7ms/step - loss: 0.0054 - accuracy: 0.9983\n",
      "Epoch 33/50\n",
      "717/717 [==============================] - 5s 7ms/step - loss: 0.0040 - accuracy: 0.9988\n",
      "Epoch 34/50\n",
      "717/717 [==============================] - 5s 7ms/step - loss: 0.0050 - accuracy: 0.9983\n",
      "Epoch 35/50\n",
      "717/717 [==============================] - 5s 7ms/step - loss: 0.0059 - accuracy: 0.9985\n",
      "Epoch 36/50\n",
      "717/717 [==============================] - 5s 7ms/step - loss: 0.0036 - accuracy: 0.9987\n",
      "Epoch 37/50\n",
      "717/717 [==============================] - 5s 7ms/step - loss: 0.0031 - accuracy: 0.9989\n",
      "Epoch 38/50\n",
      "717/717 [==============================] - 5s 7ms/step - loss: 0.0025 - accuracy: 0.9993\n",
      "Epoch 39/50\n",
      "717/717 [==============================] - 5s 7ms/step - loss: 0.0032 - accuracy: 0.9989\n",
      "Epoch 40/50\n",
      "717/717 [==============================] - 5s 7ms/step - loss: 0.0024 - accuracy: 0.9992\n",
      "Epoch 41/50\n",
      "717/717 [==============================] - 5s 7ms/step - loss: 0.0045 - accuracy: 0.9980\n",
      "Epoch 42/50\n",
      "717/717 [==============================] - 5s 7ms/step - loss: 0.0041 - accuracy: 0.9988\n",
      "Epoch 43/50\n",
      "717/717 [==============================] - 5s 7ms/step - loss: 0.0030 - accuracy: 0.9990\n",
      "Epoch 44/50\n",
      "717/717 [==============================] - 5s 7ms/step - loss: 0.0029 - accuracy: 0.9989\n",
      "Epoch 45/50\n",
      "717/717 [==============================] - 5s 7ms/step - loss: 0.0028 - accuracy: 0.9991\n",
      "Epoch 46/50\n",
      "717/717 [==============================] - 5s 7ms/step - loss: 0.0028 - accuracy: 0.9991\n",
      "Epoch 47/50\n",
      "717/717 [==============================] - 5s 7ms/step - loss: 0.0044 - accuracy: 0.9984\n",
      "Epoch 48/50\n",
      "717/717 [==============================] - 5s 7ms/step - loss: 0.0015 - accuracy: 0.9995\n",
      "Epoch 49/50\n",
      "717/717 [==============================] - 5s 7ms/step - loss: 0.0016 - accuracy: 0.9997\n",
      "Epoch 50/50\n",
      "717/717 [==============================] - 5s 7ms/step - loss: 0.0038 - accuracy: 0.9986\n"
     ]
    },
    {
     "data": {
      "text/plain": [
       "<keras.callbacks.History at 0x7fae18ea8be0>"
      ]
     },
     "execution_count": 19,
     "metadata": {},
     "output_type": "execute_result"
    }
   ],
   "source": [
    "model.fit(final_all_data_ds,\n",
    "         epochs = 50)"
   ]
  },
  {
   "cell_type": "code",
   "execution_count": 20,
   "id": "0412236f",
   "metadata": {},
   "outputs": [],
   "source": [
    "import tensorflowjs as tfjs\n",
    "tfjs.converters.save_keras_model(model, \"tfjs_model\")"
   ]
  },
  {
   "cell_type": "code",
   "execution_count": null,
   "id": "641eb539",
   "metadata": {},
   "outputs": [],
   "source": []
  }
 ],
 "metadata": {
  "kernelspec": {
   "display_name": "Python 3 (ipykernel)",
   "language": "python",
   "name": "python3"
  },
  "language_info": {
   "codemirror_mode": {
    "name": "ipython",
    "version": 3
   },
   "file_extension": ".py",
   "mimetype": "text/x-python",
   "name": "python",
   "nbconvert_exporter": "python",
   "pygments_lexer": "ipython3",
   "version": "3.8.10"
  },
  "vscode": {
   "interpreter": {
    "hash": "916dbcbb3f70747c44a77c7bcd40155683ae19c65e1c03b4aa3499c5328201f1"
   }
  }
 },
 "nbformat": 4,
 "nbformat_minor": 5
}
